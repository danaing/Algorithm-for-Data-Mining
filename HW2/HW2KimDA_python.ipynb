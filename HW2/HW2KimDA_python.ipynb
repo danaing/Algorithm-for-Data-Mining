{
 "cells": [
  {
   "cell_type": "code",
   "execution_count": 2,
   "metadata": {},
   "outputs": [
    {
     "name": "stdout",
     "output_type": "stream",
     "text": [
      "C:\\Users\\User\\Desktop\\18-2\\DM\\data\n"
     ]
    }
   ],
   "source": [
    "# set the working directory\n",
    "import os as os\n",
    "os.chdir(\"C:/Users/User/Desktop/18-2/DM/data\")\n",
    "print(os.getcwd())\n",
    "\n",
    "\n",
    "def regression_analysis():\n",
    "    \n",
    "    # import packages\n",
    "    import numpy as np\n",
    "    import numpy.linalg as lin\n",
    "    import pandas as pd\n",
    "    \n",
    "    # prompt user to enter the data information\n",
    "    data = input(\"Enter the data file name: \")\n",
    "    fm = input(\"Select the data coding format(1 = 'a b c' or 2 = 'a,b,c'): \")\n",
    "    num = int(input(\"Enter which column the response variable is recorded: \"))-1\n",
    "\n",
    "    if fm=='1': \n",
    "        form = ' '  \n",
    "    else: \n",
    "        form= ','\n",
    "\n",
    "    data = pd.read_csv(data, header=None, sep=form)\n",
    "    \n",
    "    # import data\n",
    "    response = data[num]\n",
    "    explanatory = data.drop(num, axis=1)\n",
    "    \n",
    "    # design matrix\n",
    "    n = data.shape[0]\n",
    "    p = data.shape[1]-1\n",
    "    one = pd.DataFrame(np.ones((n,1)))\n",
    "    I = np.eye(n)\n",
    "    X = pd.concat([pd.DataFrame(one),explanatory], axis=1)\n",
    "    Y = response\n",
    "    H = X.dot(lin.inv(X.T.dot(X))).dot(X.T)\n",
    "    H0 = one.dot(lin.inv(one.T.dot(one))).dot(one.T)\n",
    "    inv = lin.inv(X.T.dot(X))\n",
    "    b = inv.dot(X.T).dot(Y).round(3)\n",
    "\n",
    "    # multiple regression result\n",
    "    yhat = H.dot(Y).round(1)\n",
    "    SST = Y.T.dot(I-H0).dot(Y)\n",
    "    SSE = Y.T.dot(I-H).dot(Y)\n",
    "    Rsquare = round(1 - SSE/SST, 4)\n",
    "    MSE = round(SSE/(n-p), 4)\n",
    "\n",
    "    # output file name\n",
    "    outputname = input(\"Write the output file name you want to save (without extension name) : \")\n",
    "    outputname = outputname+'.txt'\n",
    "\n",
    "    # outport the result\n",
    "    with open(outputname,\"w\") as text_file:\n",
    "        \n",
    "        print(\"Coefficients\", file=text_file)\n",
    "        print(\"-------------\", file=text_file)\n",
    "        for i in range(p+1):\n",
    "            if i==0:\n",
    "                print(\"Constant:\", b[i],sep=\"   \", file=text_file)\n",
    "            else: \n",
    "                print(\"Beta\",i,\":   \",b[i],sep=\"\", file=text_file)\n",
    "        print(\"\",file=text_file)\n",
    "\n",
    "        print(\"ID, Actual values, Fitted values\", file=text_file)\n",
    "        print(\"--------------------------------\", file=text_file)\n",
    "        for i in range(n):\n",
    "            print(i+1, Y[i], yhat[i], sep=\", \", file=text_file)\n",
    "        print(\"\",file=text_file)\n",
    "        \n",
    "        print(\"Model Summary\", file=text_file)\n",
    "        print(\"-------------\", file=text_file)\n",
    "        print(\"R-square = \", Rsquare, sep=\"\", file=text_file)\n",
    "        print(\"MSE = \", MSE, sep=\"\", file=text_file)"
   ]
  },
  {
   "cell_type": "code",
   "execution_count": 3,
   "metadata": {},
   "outputs": [
    {
     "name": "stdout",
     "output_type": "stream",
     "text": [
      "Enter the data file name: harris.dat\n",
      "Select the data coding format(1 = 'a b c' or 2 = 'a,b,c'): 1\n",
      "Enter which column the response variable is recorded: 1\n",
      "Write the output file name you want to save (without extension name) : HW2KimDA_py_output\n"
     ]
    }
   ],
   "source": [
    "regression_analysis()"
   ]
  },
  {
   "cell_type": "code",
   "execution_count": 9,
   "metadata": {},
   "outputs": [
    {
     "name": "stderr",
     "output_type": "stream",
     "text": [
      "[NbConvertApp] Converting notebook HW2KimDA_python.ipynb to script\n",
      "[NbConvertApp] Writing 2321 bytes to HW2KimDA_python.py\n"
     ]
    }
   ],
   "source": [
    "! jupyter nbconvert --to script HW2KimDA_python.ipynb"
   ]
  }
 ],
 "metadata": {
  "kernelspec": {
   "display_name": "Python 3",
   "language": "python",
   "name": "python3"
  },
  "language_info": {
   "codemirror_mode": {
    "name": "ipython",
    "version": 3
   },
   "file_extension": ".py",
   "mimetype": "text/x-python",
   "name": "python",
   "nbconvert_exporter": "python",
   "pygments_lexer": "ipython3",
   "version": "3.6.3"
  }
 },
 "nbformat": 4,
 "nbformat_minor": 2
}
