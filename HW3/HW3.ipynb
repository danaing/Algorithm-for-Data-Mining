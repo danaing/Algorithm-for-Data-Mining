{
 "cells": [
  {
   "cell_type": "code",
   "execution_count": 1,
   "metadata": {},
   "outputs": [
    {
     "name": "stdout",
     "output_type": "stream",
     "text": [
      "C:\\Users\\User\\Desktop\\18-2\\DM\\data\n"
     ]
    }
   ],
   "source": [
    "# set the working directory\n",
    "import os as os\n",
    "os.chdir(\"C:/Users/User/Desktop/18-2/DM/data\")\n",
    "print(os.getcwd())\n",
    "\n",
    "def read():\n",
    "    import pandas as pd\n",
    "    name = input(\"Enter the data file name (with extension name) : \")\n",
    "    fm = input(\"Select the data coding format(1='a b c' or 2='a,b,c'): \" )\n",
    "    if fm == '1':\n",
    "        form = \" \"\n",
    "    elif fm == '2':\n",
    "        form = \",\"\n",
    "    return pd.read_csv(name, sep=form, header=None)"
   ]
  },
  {
   "cell_type": "code",
   "execution_count": 5,
   "metadata": {},
   "outputs": [
    {
     "ename": "IndentationError",
     "evalue": "unexpected indent (<ipython-input-5-f487b31585b1>, line 3)",
     "output_type": "error",
     "traceback": [
      "\u001b[1;36m  File \u001b[1;32m\"<ipython-input-5-f487b31585b1>\"\u001b[1;36m, line \u001b[1;32m3\u001b[0m\n\u001b[1;33m    import math\u001b[0m\n\u001b[1;37m    ^\u001b[0m\n\u001b[1;31mIndentationError\u001b[0m\u001b[1;31m:\u001b[0m unexpected indent\n"
     ]
    }
   ],
   "source": [
    "def classification():\n",
    "    # import packages\n",
    "    import math\n",
    "    import pandas as pd\n",
    "    import numpy as np\n",
    "    import numpy.linalg as lin\n",
    "    from fractions import Fraction as frac\n",
    "\n",
    "    # prompt user to enter the data\n",
    "    print('Importing TRAINING data set')\n",
    "    train = read()\n",
    "    print('Importing TRAINING data set')\n",
    "    test = read()\n",
    "    num = int(input(\"Enter which column the response variable is recorded: \"))-1\n"
   ]
  },
  {
   "cell_type": "code",
   "execution_count": 711,
   "metadata": {
    "collapsed": true
   },
   "outputs": [],
   "source": [
    "import math\n",
    "import pandas as pd\n",
    "import numpy as np\n",
    "import numpy.linalg as lin\n",
    "from fractions import Fraction as frac"
   ]
  },
  {
   "cell_type": "code",
   "execution_count": 3,
   "metadata": {},
   "outputs": [
    {
     "name": "stdout",
     "output_type": "stream",
     "text": [
      "Importing TRAINING data set\n",
      "Enter the data file name (with extension name) : veh.dat\n",
      "Select the data coding format(1='a b c' or 2='a,b,c'): 2\n"
     ]
    }
   ],
   "source": [
    "print('Importing TRAINING data set')\n",
    "train = read()"
   ]
  },
  {
   "cell_type": "code",
   "execution_count": 4,
   "metadata": {},
   "outputs": [
    {
     "name": "stdout",
     "output_type": "stream",
     "text": [
      "Importing TRAINING data set\n",
      "Enter the data file name (with extension name) : vehtest.dat\n",
      "Select the data coding format(1='a b c' or 2='a,b,c'): 2\n"
     ]
    }
   ],
   "source": [
    "print('Importing TRAINING data set')\n",
    "test = read()"
   ]
  },
  {
   "cell_type": "code",
   "execution_count": 5,
   "metadata": {},
   "outputs": [
    {
     "name": "stdout",
     "output_type": "stream",
     "text": [
      "Enter which column the response variable is recorded: 19\n"
     ]
    }
   ],
   "source": [
    "num = int(input(\"Enter which column the response variable is recorded: \"))-1"
   ]
  },
  {
   "cell_type": "code",
   "execution_count": 7,
   "metadata": {},
   "outputs": [
    {
     "name": "stdout",
     "output_type": "stream",
     "text": [
      "Enter 1 to implement LDA or enter 2 to implement QDA2\n"
     ]
    }
   ],
   "source": [
    "choice = input(\"Enter 1 to implement LDA or enter 2 to implement QDA\")"
   ]
  },
  {
   "cell_type": "code",
   "execution_count": 8,
   "metadata": {
    "collapsed": true
   },
   "outputs": [],
   "source": [
    "nclass = len(train[num].unique())\n",
    "# Assume that values of the class variable are integers starting with 1"
   ]
  },
  {
   "cell_type": "code",
   "execution_count": 109,
   "metadata": {},
   "outputs": [
    {
     "name": "stdout",
     "output_type": "stream",
     "text": [
      " It has 4 Classes. \n",
      " Input each priors with ascending order of Class index. \n",
      " ex) Priors of 3 class size = 1/3, 1/3, 1/3 \n",
      "\n",
      "Priors : 1/5,1/5,1/5,1/5\n"
     ]
    }
   ],
   "source": [
    "print(' It has',nclass,'Classes.','\\n', 'Input each priors with ascending order of Class index.','\\n',\n",
    "      'ex) Priors of 3 class size = 1/3, 1/3, 1/3','\\n')\n",
    "prior = input('Priors : ').split(',')"
   ]
  },
  {
   "cell_type": "code",
   "execution_count": 110,
   "metadata": {
    "collapsed": true
   },
   "outputs": [],
   "source": [
    "prior = list(map(lambda x: frac(x), prior))"
   ]
  },
  {
   "cell_type": "code",
   "execution_count": 111,
   "metadata": {},
   "outputs": [
    {
     "name": "stdout",
     "output_type": "stream",
     "text": [
      "Sum of your prior input is not equal to 1.\n",
      "So equal prior is given such as [0.25, 0.25, 0.25, 0.25]\n"
     ]
    }
   ],
   "source": [
    "if not len(prior) == nclass :\n",
    "    prior = [1/nclass]*nclass\n",
    "    print(\"Your prior input does not correscond with class size.\")\n",
    "    print(\"So equal prior is given such as\", prior)\n",
    "elif not sum(prior)==1 :\n",
    "    prior = [1/nclass]*nclass\n",
    "    print(\"Sum of your prior input is not equal to 1.\")\n",
    "    print(\"So equal prior is given such as\", prior)"
   ]
  },
  {
   "cell_type": "code",
   "execution_count": 712,
   "metadata": {
    "collapsed": true
   },
   "outputs": [],
   "source": [
    "# Basic stat\n",
    "N = train.shape[0]\n",
    "n = test.shape[0]\n",
    "np = train[num].groupby(train[num]).count()\n",
    "x = train.drop(num, axis=1).T\n",
    "x_test = test.drop(num, axis=1).T\n",
    "y = train[num]\n",
    "y_test = test[num]\n",
    "prior = pd.DataFrame(prior)"
   ]
  },
  {
   "cell_type": "code",
   "execution_count": 713,
   "metadata": {
    "collapsed": true
   },
   "outputs": [],
   "source": [
    "means = train.groupby(train[num]).mean().T\n",
    "cov = train.groupby(train[num]).cov()"
   ]
  },
  {
   "cell_type": "code",
   "execution_count": 714,
   "metadata": {
    "collapsed": true
   },
   "outputs": [],
   "source": [
    "covs=[]\n",
    "sp = 0\n",
    "for i in range(1, nclass+1):\n",
    "    covs.append(cov.loc[i])\n",
    "    sp = sp + (np[i]-1)*cov.loc[i]/(N-nclass)"
   ]
  },
  {
   "cell_type": "code",
   "execution_count": 715,
   "metadata": {},
   "outputs": [],
   "source": [
    "# LDA\n",
    "choice=2\n",
    "if choice == 1 :\n",
    "    dresub=[]\n",
    "    dtest=[]\n",
    "\n",
    "    for i in range(1, nclass+1):\n",
    "        t0 = (means[i].T).dot(lin.inv(sp)).dot(x)\n",
    "        t1 = (means[i].T).dot(lin.inv(sp)).dot(x_test)\n",
    "        t2 = (-0.5)*means[i].T.dot(lin.inv(sp)).dot(means[i])+math.log(prior.T[i-1])\n",
    "        t3 = (-0.5)*means[i].T.dot(lin.inv(sp)).dot(means[i])+math.log(prior.T[i-1])\n",
    "        dresub.append(t0+t2)\n",
    "        dtest.append(t1+t3)\n",
    "    y = pd.concat([pd.DataFrame(y),pd.DataFrame(dresub).idxmax()+1], axis=1)\n",
    "    y_test = pd.concat([pd.DataFrame(y_test),pd.DataFrame(dtest).idxmax()+1], axis=1)\n",
    "    \n",
    "    \n",
    "elif choice == 2 :\n",
    "    import numpy as np\n",
    "    dresub = np.zeros((nclass,N))\n",
    "    dtest = np.zeros((nclass,n))\n",
    "\n",
    "    for i in range(0, nclass):\n",
    "        for j in range(0, N):\n",
    "            t0 = (-0.5)*math.log(lin.det(cov.loc[i+1]))\n",
    "            t1 = (-0.5)*((x[j]-means[i+1]).T).dot(lin.inv(cov.loc[i+1])).dot(x[j]-means[i+1]) + math.log(prior.T[i])\n",
    "            dresub[i,j]= t0+t1\n",
    "        for j in range(0, n):\n",
    "            t2 = (-0.5)*((x_test[j]-means[i+1]).T).dot(lin.inv(cov.loc[i+1])).dot(x_test[j]-means[i+1]) + math.log(prior.T[i])\n",
    "            dtest[i,j]= t0+t2\n",
    "\n",
    "    y_pred = pd.DataFrame(dresub).idxmax()+1\n",
    "    y_test_pred = pd.DataFrame(dtest).idxmax()+1"
   ]
  },
  {
   "cell_type": "code",
   "execution_count": 726,
   "metadata": {},
   "outputs": [],
   "source": [
    "# Crosstable\n",
    "cross_res = pd.crosstab(y, y_pred,rownames=['Actual Class'], colnames=['Predicted Class'])\n",
    "accuracy_res = np.trace(cross_res)/N\n",
    "\n",
    "cross_t = pd.crosstab(y_test, y_test_pred,rownames=['Actual Class'], colnames=['Predicted Class'])\n",
    "accuracy_t = np.trace(cross_t)/N"
   ]
  },
  {
   "cell_type": "code",
   "execution_count": 728,
   "metadata": {},
   "outputs": [
    {
     "name": "stdout",
     "output_type": "stream",
     "text": [
      "Write the output file name you want to save (without extension name) : hw3tttteessssttttttttt\n"
     ]
    }
   ],
   "source": [
    "# output file name\n",
    "outputname = input(\"Write the output file name you want to save (without extension name) : \")\n",
    "outputname = outputname+'.txt'"
   ]
  },
  {
   "cell_type": "code",
   "execution_count": 731,
   "metadata": {},
   "outputs": [],
   "source": [
    "# outport the result\n",
    "with open(outputname,\"w\") as text_file:\n",
    "    \n",
    "    print('ID, Actual class, Resub pred', file=text_file)\n",
    "    print('-----------------------------', file=text_file)\n",
    "    for i in range(N):\n",
    "         print(i+1, y[i], y_pred[i], sep=', ', file=text_file)\n",
    "    print('',file=text_file)\n",
    "    print('Confusion Matrix (Resubstitution)', file=text_file)\n",
    "    print('----------------------------------', file=text_file)\n",
    "    print(cross_res, file=text_file)\n",
    "    print(\"\",file=text_file)\n",
    "    print(\"Model Summary (Resubstitution)\", file=text_file)\n",
    "    print('------------------------------', file=text_file)\n",
    "    print(\"Overall accuracy = \", accuracy_res.round(3), sep='', file=text_file)\n",
    "    print('', file=text_file)\n",
    "    \n",
    "    print('ID, Actual class, Test pred', file=text_file)\n",
    "    print('-----------------------------', file=text_file)\n",
    "    for i in range(n):\n",
    "        print(i+1, y[i], y_pred[i], sep=', ', file=text_file)\n",
    "    print('',file=text_file)\n",
    "    print('Confusion Matrix (Test)', file=text_file)\n",
    "    print('----------------------------------', file=text_file)\n",
    "    print(cross_t, file=text_file)\n",
    "    print(\"\",file=text_file)\n",
    "    print(\"Model Summary (Test)\", file=text_file)\n",
    "    print('------------------------------', file=text_file)\n",
    "    print(\"Overall accuracy = \", accuracy_t.round(3), sep='', file=text_file)\n",
    "    print('', file=text_file)"
   ]
  },
  {
   "cell_type": "code",
   "execution_count": 730,
   "metadata": {},
   "outputs": [
    {
     "data": {
      "text/plain": [
       "336"
      ]
     },
     "execution_count": 730,
     "metadata": {},
     "output_type": "execute_result"
    }
   ],
   "source": [
    "n"
   ]
  },
  {
   "cell_type": "code",
   "execution_count": null,
   "metadata": {
    "collapsed": true
   },
   "outputs": [],
   "source": []
  }
 ],
 "metadata": {
  "kernelspec": {
   "display_name": "Python 3",
   "language": "python",
   "name": "python3"
  },
  "language_info": {
   "codemirror_mode": {
    "name": "ipython",
    "version": 3
   },
   "file_extension": ".py",
   "mimetype": "text/x-python",
   "name": "python",
   "nbconvert_exporter": "python",
   "pygments_lexer": "ipython3",
   "version": "3.6.3"
  }
 },
 "nbformat": 4,
 "nbformat_minor": 2
}
